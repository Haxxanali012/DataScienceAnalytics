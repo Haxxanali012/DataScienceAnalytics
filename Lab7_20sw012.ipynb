{
  "nbformat": 4,
  "nbformat_minor": 0,
  "metadata": {
    "colab": {
      "provenance": [],
      "authorship_tag": "ABX9TyPKdHvRJpXe9du2VVTwGcUa",
      "include_colab_link": true
    },
    "kernelspec": {
      "name": "python3",
      "display_name": "Python 3"
    },
    "language_info": {
      "name": "python"
    }
  },
  "cells": [
    {
      "cell_type": "markdown",
      "metadata": {
        "id": "view-in-github",
        "colab_type": "text"
      },
      "source": [
        "<a href=\"https://colab.research.google.com/github/Haxxanali012/DataScienceAnalytics/blob/main/Lab7_20sw012.ipynb\" target=\"_parent\"><img src=\"https://colab.research.google.com/assets/colab-badge.svg\" alt=\"Open In Colab\"/></a>"
      ]
    },
    {
      "cell_type": "code",
      "execution_count": 6,
      "metadata": {
        "colab": {
          "base_uri": "https://localhost:8080/"
        },
        "id": "OM8J6UzRbeHu",
        "outputId": "1d099da8-f4af-4dac-a6cf-7aeecd55c08a"
      },
      "outputs": [
        {
          "output_type": "stream",
          "name": "stdout",
          "text": [
            "(807, 14)\n",
            "   id  identifier  generation_id  height  weight  base_experience type_1  \\\n",
            "0   1   bulbasaur              1     0.7     6.9               64  grass   \n",
            "1   2     ivysaur              1     1.0    13.0              142  grass   \n",
            "2   3    venusaur              1     2.0   100.0              236  grass   \n",
            "3   4  charmander              1     0.6     8.5               62   fire   \n",
            "4   5  charmeleon              1     1.1    19.0              142   fire   \n",
            "5   6   charizard              1     1.7    90.5              240   fire   \n",
            "6   7    squirtle              1     0.5     9.0               63  water   \n",
            "7   8   wartortle              1     1.0    22.5              142  water   \n",
            "8   9   blastoise              1     1.6    85.5              239  water   \n",
            "9  10    caterpie              1     0.3     2.9               39    bug   \n",
            "\n",
            "   type_2  hp  attack  defense  speed  special-attack  special-defense  \n",
            "0  poison  45      49       49     45              65               65  \n",
            "1  poison  60      62       63     60              80               80  \n",
            "2  poison  80      82       83     80             100              100  \n",
            "3     NaN  39      52       43     65              60               50  \n",
            "4     NaN  58      64       58     80              80               65  \n",
            "5  flying  78      84       78    100             109               85  \n",
            "6     NaN  44      48       65     43              50               64  \n",
            "7     NaN  59      63       80     58              65               80  \n",
            "8     NaN  79      83      100     78              85              105  \n",
            "9     NaN  45      30       35     45              20               20  \n"
          ]
        }
      ],
      "source": [
        "from ast import increment_lineno\n",
        "import pandas as pd\n",
        "import numpy as np\n",
        "import matplotlib.pyplot as plt\n",
        "\n",
        "import seaborn as sb\n",
        "%matplotlib inline\n",
        "pokemon= pd.read_csv(\"/content/pokemon.csv\")\n",
        "print(pokemon.shape)\n",
        "print(pokemon.head(10))\n",
        "pokemon.isnull().sum()\n"
      ]
    },
    {
      "cell_type": "code",
      "source": [
        "pokemon.dropna(axis=0, inplace=True)\n",
        "pokemon.head"
      ],
      "metadata": {
        "colab": {
          "base_uri": "https://localhost:8080/"
        },
        "id": "hj2svAP_f7AA",
        "outputId": "f48e7db7-f06e-4c2b-ffe2-cecf334f3290"
      },
      "execution_count": 8,
      "outputs": [
        {
          "output_type": "execute_result",
          "data": {
            "text/plain": [
              "<bound method NDFrame.head of       id   identifier  generation_id  height  weight  base_experience  \\\n",
              "0      1    bulbasaur              1     0.7     6.9               64   \n",
              "1      2      ivysaur              1     1.0    13.0              142   \n",
              "2      3     venusaur              1     2.0   100.0              236   \n",
              "5      6    charizard              1     1.7    90.5              240   \n",
              "11    12   butterfree              1     1.1    32.0              178   \n",
              "..   ...          ...            ...     ...     ...              ...   \n",
              "800  801     magearna              7     1.0    80.5              270   \n",
              "801  802    marshadow              7     0.7    22.2              270   \n",
              "803  804    naganadel              7     3.6   150.0              243   \n",
              "804  805    stakataka              7     5.5   820.0              257   \n",
              "805  806  blacephalon              7     1.8    13.0              257   \n",
              "\n",
              "       type_1  type_2  hp  attack  defense  speed  special-attack  \\\n",
              "0       grass  poison  45      49       49     45              65   \n",
              "1       grass  poison  60      62       63     60              80   \n",
              "2       grass  poison  80      82       83     80             100   \n",
              "5        fire  flying  78      84       78    100             109   \n",
              "11        bug  flying  60      45       50     70              90   \n",
              "..        ...     ...  ..     ...      ...    ...             ...   \n",
              "800     steel   fairy  80      95      115     65             130   \n",
              "801  fighting   ghost  90     125       80    125              90   \n",
              "803    poison  dragon  73      73       73    121             127   \n",
              "804      rock   steel  61     131      211     13              53   \n",
              "805      fire   ghost  53     127       53    107             151   \n",
              "\n",
              "     special-defense  \n",
              "0                 65  \n",
              "1                 80  \n",
              "2                100  \n",
              "5                 85  \n",
              "11                80  \n",
              "..               ...  \n",
              "800              115  \n",
              "801               90  \n",
              "803               73  \n",
              "804              101  \n",
              "805               79  \n",
              "\n",
              "[405 rows x 14 columns]>"
            ]
          },
          "metadata": {},
          "execution_count": 8
        }
      ]
    },
    {
      "cell_type": "code",
      "source": [
        "gen_order=pokemon['generation_id'].value_counts().index\n",
        "gen_order"
      ],
      "metadata": {
        "colab": {
          "base_uri": "https://localhost:8080/"
        },
        "id": "h_OFhseXgmp0",
        "outputId": "5b4e2a6e-61dc-4290-c510-80bceead8ef7"
      },
      "execution_count": 20,
      "outputs": [
        {
          "output_type": "execute_result",
          "data": {
            "text/plain": [
              "Int64Index([5, 1, 3, 7, 4, 2, 6], dtype='int64')"
            ]
          },
          "metadata": {},
          "execution_count": 20
        }
      ]
    },
    {
      "cell_type": "code",
      "source": [
        "sb.countplot(data=pokemon, x='generation_id')"
      ],
      "metadata": {
        "colab": {
          "base_uri": "https://localhost:8080/",
          "height": 468
        },
        "id": "gJ518qaohfl5",
        "outputId": "2c3f8369-7532-41f9-ee78-29e21e648346"
      },
      "execution_count": 12,
      "outputs": [
        {
          "output_type": "execute_result",
          "data": {
            "text/plain": [
              "<Axes: xlabel='generation_id', ylabel='count'>"
            ]
          },
          "metadata": {},
          "execution_count": 12
        },
        {
          "output_type": "display_data",
          "data": {
            "text/plain": [
              "<Figure size 640x480 with 1 Axes>"
            ],
            "image/png": "[encoded data removed]"
          },
          "metadata": {}
        }
      ]
    },
    {
      "cell_type": "code",
      "source": [
        "sb.color_palette()"
      ],
      "metadata": {
        "colab": {
          "base_uri": "https://localhost:8080/",
          "height": 77
        },
        "id": "OIn8BsOvjCmu",
        "outputId": "805ea635-5717-4b82-cbe1-ddda5714d6ca"
      },
      "execution_count": 13,
      "outputs": [
        {
          "output_type": "execute_result",
          "data": {
            "text/plain": [
              "[(0.12156862745098039, 0.4666666666666667, 0.7058823529411765),\n",
              " (1.0, 0.4980392156862745, 0.054901960784313725),\n",
              " (0.17254901960784313, 0.6274509803921569, 0.17254901960784313),\n",
              " (0.8392156862745098, 0.15294117647058825, 0.1568627450980392),\n",
              " (0.5803921568627451, 0.403921568627451, 0.7411764705882353),\n",
              " (0.5490196078431373, 0.33725490196078434, 0.29411764705882354),\n",
              " (0.8901960784313725, 0.4666666666666667, 0.7607843137254902),\n",
              " (0.4980392156862745, 0.4980392156862745, 0.4980392156862745),\n",
              " (0.7372549019607844, 0.7411764705882353, 0.13333333333333333),\n",
              " (0.09019607843137255, 0.7450980392156863, 0.8117647058823529)]"
            ],
            "text/html": [
              "<svg  width=\"550\" height=\"55\"><rect x=\"0\" y=\"0\" width=\"55\" height=\"55\" style=\"fill:#1f77b4;stroke-width:2;stroke:rgb(255,255,255)\"/><rect x=\"55\" y=\"0\" width=\"55\" height=\"55\" style=\"fill:#ff7f0e;stroke-width:2;stroke:rgb(255,255,255)\"/><rect x=\"110\" y=\"0\" width=\"55\" height=\"55\" style=\"fill:#2ca02c;stroke-width:2;stroke:rgb(255,255,255)\"/><rect x=\"165\" y=\"0\" width=\"55\" height=\"55\" style=\"fill:#d62728;stroke-width:2;stroke:rgb(255,255,255)\"/><rect x=\"220\" y=\"0\" width=\"55\" height=\"55\" style=\"fill:#9467bd;stroke-width:2;stroke:rgb(255,255,255)\"/><rect x=\"275\" y=\"0\" width=\"55\" height=\"55\" style=\"fill:#8c564b;stroke-width:2;stroke:rgb(255,255,255)\"/><rect x=\"330\" y=\"0\" width=\"55\" height=\"55\" style=\"fill:#e377c2;stroke-width:2;stroke:rgb(255,255,255)\"/><rect x=\"385\" y=\"0\" width=\"55\" height=\"55\" style=\"fill:#7f7f7f;stroke-width:2;stroke:rgb(255,255,255)\"/><rect x=\"440\" y=\"0\" width=\"55\" height=\"55\" style=\"fill:#bcbd22;stroke-width:2;stroke:rgb(255,255,255)\"/><rect x=\"495\" y=\"0\" width=\"55\" height=\"55\" style=\"fill:#17becf;stroke-width:2;stroke:rgb(255,255,255)\"/></svg>"
            ]
          },
          "metadata": {},
          "execution_count": 13
        }
      ]
    },
    {
      "cell_type": "code",
      "source": [
        "base_color=sb.color_palette()[2]"
      ],
      "metadata": {
        "id": "gXNumR0ujMF4"
      },
      "execution_count": 16,
      "outputs": []
    },
    {
      "cell_type": "code",
      "source": [
        "sb.countplot(data=pokemon, x='generation_id', color=base_color)"
      ],
      "metadata": {
        "colab": {
          "base_uri": "https://localhost:8080/",
          "height": 468
        },
        "id": "cJU8D-73jdfy",
        "outputId": "4ded70ce-bbaf-417a-a073-ef700976e30e"
      },
      "execution_count": 17,
      "outputs": [
        {
          "output_type": "execute_result",
          "data": {
            "text/plain": [
              "<Axes: xlabel='generation_id', ylabel='count'>"
            ]
          },
          "metadata": {},
          "execution_count": 17
        },
        {
          "output_type": "display_data",
          "data": {
            "text/plain": [
              "<Figure size 640x480 with 1 Axes>"
            ],
            "image/png": "[encoded data removed]"
          },
          "metadata": {}
        }
      ]
    },
    {
      "cell_type": "code",
      "source": [
        "sb.countplot(data=pokemon, x='generation_id', color=base_color, order=gen_order)"
      ],
      "metadata": {
        "colab": {
          "base_uri": "https://localhost:8080/",
          "height": 468
        },
        "id": "AqHdvBK_lC3A",
        "outputId": "601fb6a1-e60e-4b99-d2a7-a37463d65da7"
      },
      "execution_count": 21,
      "outputs": [
        {
          "output_type": "execute_result",
          "data": {
            "text/plain": [
              "<Axes: xlabel='generation_id', ylabel='count'>"
            ]
          },
          "metadata": {},
          "execution_count": 21
        },
        {
          "output_type": "display_data",
          "data": {
            "text/plain": [
              "<Figure size 640x480 with 1 Axes>"
            ],
            "image/png": "[encoded data removed]"
          },
          "metadata": {}
        }
      ]
    },
    {
      "cell_type": "code",
      "source": [
        "pokemon.info()"
      ],
      "metadata": {
        "colab": {
          "base_uri": "https://localhost:8080/"
        },
        "id": "YK5o5snDl_8h",
        "outputId": "5352d485-df7e-46fc-b874-6a0e5ff7ab4c"
      },
      "execution_count": 22,
      "outputs": [
        {
          "output_type": "stream",
          "name": "stdout",
          "text": [
            "<class 'pandas.core.frame.DataFrame'>\n",
            "Int64Index: 405 entries, 0 to 805\n",
            "Data columns (total 14 columns):\n",
            " #   Column           Non-Null Count  Dtype  \n",
            "---  ------           --------------  -----  \n",
            " 0   id               405 non-null    int64  \n",
            " 1   identifier       405 non-null    object \n",
            " 2   generation_id    405 non-null    int64  \n",
            " 3   height           405 non-null    float64\n",
            " 4   weight           405 non-null    float64\n",
            " 5   base_experience  405 non-null    int64  \n",
            " 6   type_1           405 non-null    object \n",
            " 7   type_2           405 non-null    object \n",
            " 8   hp               405 non-null    int64  \n",
            " 9   attack           405 non-null    int64  \n",
            " 10  defense          405 non-null    int64  \n",
            " 11  speed            405 non-null    int64  \n",
            " 12  special-attack   405 non-null    int64  \n",
            " 13  special-defense  405 non-null    int64  \n",
            "dtypes: float64(2), int64(9), object(3)\n",
            "memory usage: 47.5+ KB\n"
          ]
        }
      ]
    },
    {
      "cell_type": "code",
      "source": [
        "sb.countplot(data=pokemon, x='type_1')"
      ],
      "metadata": {
        "colab": {
          "base_uri": "https://localhost:8080/",
          "height": 467
        },
        "id": "NVnwQ02GmLGS",
        "outputId": "a84e5391-fa63-4085-80dc-6bf41592d61e"
      },
      "execution_count": 24,
      "outputs": [
        {
          "output_type": "execute_result",
          "data": {
            "text/plain": [
              "<Axes: xlabel='type_1', ylabel='count'>"
            ]
          },
          "metadata": {},
          "execution_count": 24
        },
        {
          "output_type": "display_data",
          "data": {
            "text/plain": [
              "<Figure size 640x480 with 1 Axes>"
            ],
            "image/png": "[encoded data removed]"
          },
          "metadata": {}
        }
      ]
    }
  ]
}