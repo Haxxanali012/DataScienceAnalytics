{
  "nbformat": 4,
  "nbformat_minor": 0,
  "metadata": {
    "colab": {
      "provenance": [],
      "authorship_tag": "ABX9TyO0mWptHdK/SoropYCWooLd",
      "include_colab_link": true
    },
    "kernelspec": {
      "name": "python3",
      "display_name": "Python 3"
    },
    "language_info": {
      "name": "python"
    }
  },
  "cells": [
    {
      "cell_type": "markdown",
      "metadata": {
        "id": "view-in-github",
        "colab_type": "text"
      },
      "source": [
        "<a href=\"https://colab.research.google.com/github/Haxxanali012/DataScienceAnalytics/blob/main/LAB_4_20sw012.ipynb\" target=\"_parent\"><img src=\"https://colab.research.google.com/assets/colab-badge.svg\" alt=\"Open In Colab\"/></a>"
      ]
    },
    {
      "cell_type": "markdown",
      "source": [
        "**Name: Muhammad Hassan**\n",
        "\n",
        "**Rollno:20SW012**\n",
        "\n",
        "**Section: ii**\n",
        "\n",
        "**Topic: Functions and Scripts in Python**"
      ],
      "metadata": {
        "id": "YxwpVWrMgtla"
      }
    },
    {
      "cell_type": "markdown",
      "source": [
        "#TASK01"
      ],
      "metadata": {
        "id": "C1fqF1zvhuts"
      }
    },
    {
      "cell_type": "code",
      "source": [
        "import numpy as np\n",
        "X = np.arange(2, 33, 2).reshape(4, 4)\n",
        "\n",
        "print(X)\n"
      ],
      "metadata": {
        "colab": {
          "base_uri": "https://localhost:8080/"
        },
        "id": "DTr1aAZEhyCq",
        "outputId": "a554ce1d-8bb7-4bb8-b4d4-d06451090595"
      },
      "execution_count": 1,
      "outputs": [
        {
          "output_type": "stream",
          "name": "stdout",
          "text": [
            "[[ 2  4  6  8]\n",
            " [10 12 14 16]\n",
            " [18 20 22 24]\n",
            " [26 28 30 32]]\n"
          ]
        }
      ]
    },
    {
      "cell_type": "markdown",
      "source": [
        "#TASK02"
      ],
      "metadata": {
        "id": "qKnUHYNZh7eA"
      }
    },
    {
      "cell_type": "code",
      "source": [
        "import numpy as np\n",
        "\n",
        "# Create a 5x5 ndarray with consecutive integers\n",
        "X = np.arange(1, 26).reshape(5, 5)\n",
        "\n",
        "# Use Boolean indexing to pick out only the odd numbers\n",
        "Y = X[X % 2 != 0]\n",
        "\n",
        "print(\"Original array X:\\n\", X)\n",
        "print(\"Array Y with odd numbers:\\n\", Y)\n"
      ],
      "metadata": {
        "colab": {
          "base_uri": "https://localhost:8080/"
        },
        "id": "FNay1fR8h-Sa",
        "outputId": "e893ea6d-ca1e-4948-a221-15ef92334904"
      },
      "execution_count": 1,
      "outputs": [
        {
          "output_type": "stream",
          "name": "stdout",
          "text": [
            "Original array X:\n",
            " [[ 1  2  3  4  5]\n",
            " [ 6  7  8  9 10]\n",
            " [11 12 13 14 15]\n",
            " [16 17 18 19 20]\n",
            " [21 22 23 24 25]]\n",
            "Array Y with odd numbers:\n",
            " [ 1  3  5  7  9 11 13 15 17 19 21 23 25]\n"
          ]
        }
      ]
    },
    {
      "cell_type": "markdown",
      "source": [
        "#TASK03"
      ],
      "metadata": {
        "id": "DMA42Llq_vic"
      }
    },
    {
      "cell_type": "code",
      "source": [
        "import numpy as np\n",
        "\n",
        "# Use broadcasting to create the desired ndarray\n",
        "X = np.arange(1, 5)[:, np.newaxis] * np.ones((4, 4), dtype=int)\n",
        "\n",
        "print(X)\n"
      ],
      "metadata": {
        "colab": {
          "base_uri": "https://localhost:8080/"
        },
        "id": "Dxffas0RAk6y",
        "outputId": "dc89e1f4-a0f8-45e5-c74f-e4431652745f"
      },
      "execution_count": 2,
      "outputs": [
        {
          "output_type": "stream",
          "name": "stdout",
          "text": [
            "[[1 1 1 1]\n",
            " [2 2 2 2]\n",
            " [3 3 3 3]\n",
            " [4 4 4 4]]\n"
          ]
        }
      ]
    },
    {
      "cell_type": "markdown",
      "source": [
        "#TASK04\n"
      ],
      "metadata": {
        "id": "JgOaydqxac-o"
      }
    },
    {
      "cell_type": "code",
      "source": [
        "import numpy as np\n",
        "\n",
        "# Create a random permutation of integers 0 to 4\n",
        "permuted_indices = np.random.permutation(5)\n",
        "\n",
        "# Create a 1000 x 20 ndarray with random integers in the half-open interval [0, 5001).\n",
        "X = np.random.randint(0, 5001, size=(1000, 20))\n",
        "\n",
        "# Create a rank 1 ndarray that contains a random permutation of the row indices of `X`\n",
        "row_indices = np.random.permutation(X.shape[0])\n",
        "\n",
        "# Make any necessary calculations.\n",
        "# You can save your calculations into variables to use later.\n",
        "\n",
        "# Create a Training Set\n",
        "X_train = X[row_indices[:700], :]\n",
        "\n",
        "# Create a Cross Validation Set\n",
        "X_crossVal = X[row_indices[700:850], :]\n",
        "\n",
        "# Create a Test Set\n",
        "X_test = X[row_indices[850:], :]\n",
        "\n",
        "# Print the shape of X_train\n",
        "print(\"Shape of X_train:\", X_train.shape)\n",
        "\n",
        "# Print the shape of X_crossVal\n",
        "print(\"Shape of X_crossVal:\", X_crossVal.shape)\n",
        "\n",
        "# Print the shape of X_test\n",
        "print(\"Shape of X_test:\", X_test.shape)"
      ],
      "metadata": {
        "colab": {
          "base_uri": "https://localhost:8080/"
        },
        "id": "LYlJoB3qafIV",
        "outputId": "f5e6f12d-f58e-44de-c862-6acc03baeaba"
      },
      "execution_count": 1,
      "outputs": [
        {
          "output_type": "stream",
          "name": "stdout",
          "text": [
            "Shape of X_train: (700, 20)\n",
            "Shape of X_crossVal: (150, 20)\n",
            "Shape of X_test: (150, 20)\n"
          ]
        }
      ]
    }
  ]
}