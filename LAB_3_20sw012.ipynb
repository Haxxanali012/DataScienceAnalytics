{
  "nbformat": 4,
  "nbformat_minor": 0,
  "metadata": {
    "colab": {
      "provenance": [],
      "authorship_tag": "ABX9TyMo4/QCJto/hvcFQMUtNvcT",
      "include_colab_link": true
    },
    "kernelspec": {
      "name": "python3",
      "display_name": "Python 3"
    },
    "language_info": {
      "name": "python"
    }
  },
  "cells": [
    {
      "cell_type": "markdown",
      "metadata": {
        "id": "view-in-github",
        "colab_type": "text"
      },
      "source": [
        "<a href=\"https://colab.research.google.com/github/Haxxanali012/DataScienceAnalytics/blob/main/LAB_3_20sw012.ipynb\" target=\"_parent\"><img src=\"https://colab.research.google.com/assets/colab-badge.svg\" alt=\"Open In Colab\"/></a>"
      ]
    },
    {
      "cell_type": "markdown",
      "source": [
        "**Name: Muhammad Hassan**\n",
        "\n",
        "**Roll no : 20SW012**\n",
        "\n",
        "**section: ii**\n",
        "\n",
        "**Topic: Functions**"
      ],
      "metadata": {
        "id": "8xCYaWsgdobZ"
      }
    },
    {
      "cell_type": "markdown",
      "source": [
        "#TASK012"
      ],
      "metadata": {
        "id": "X0ZNg5rveQDx"
      }
    },
    {
      "cell_type": "code",
      "source": [
        "def population_density(population, land_area):\n",
        "    density = population / land_area\n",
        "    return density\n",
        "\n",
        "# Test cases\n",
        "test1 = population_density(10, 1)\n",
        "expected_result1 = 10\n",
        "print(\"expected result: {}, actual result: {}\".format(expected_result1, test1))\n",
        "\n",
        "test2 = population_density(864816, 121.4)\n",
        "expected_result2 = 7123.6902801\n",
        "print(\"expected result: {}, actual result: {}\".format(expected_result2, test2))\n"
      ],
      "metadata": {
        "colab": {
          "base_uri": "https://localhost:8080/"
        },
        "id": "UVehiVNWeTLR",
        "outputId": "b885fe2e-869c-4d10-d027-0ae1194b66f6"
      },
      "execution_count": null,
      "outputs": [
        {
          "output_type": "stream",
          "name": "stdout",
          "text": [
            "expected result: 10, actual result: 10.0\n",
            "expected result: 7123.6902801, actual result: 7123.690280065897\n"
          ]
        }
      ]
    },
    {
      "cell_type": "markdown",
      "source": [
        "#TASK02\n"
      ],
      "metadata": {
        "id": "K-Qe_MpDemAK"
      }
    },
    {
      "cell_type": "code",
      "source": [
        "def readable_timedelta(days):\n",
        "    weeks = days // 7\n",
        "    remaining_days = days % 7\n",
        "    return \"{} week(s) and {} day(s)\".format(weeks, remaining_days)\n",
        "\n",
        "# Test your function\n",
        "print(readable_timedelta(10))\n"
      ],
      "metadata": {
        "colab": {
          "base_uri": "https://localhost:8080/"
        },
        "id": "2MgpipSxeqhg",
        "outputId": "2793d9fc-552c-4895-aba8-2884ded3369c"
      },
      "execution_count": null,
      "outputs": [
        {
          "output_type": "stream",
          "name": "stdout",
          "text": [
            "1 week(s) and 3 day(s)\n"
          ]
        }
      ]
    },
    {
      "cell_type": "markdown",
      "source": [
        "#TASK03"
      ],
      "metadata": {
        "id": "NIDMTqmme3yI"
      }
    },
    {
      "cell_type": "code",
      "source": [
        "numbers = [\n",
        " [34, 63, 88, 71, 29],\n",
        " [90, 78, 51, 27, 45],\n",
        " [63, 37, 85, 46, 22],\n",
        " [51, 22, 34, 11, 18]\n",
        "]\n",
        "\n",
        "averages = list(map(lambda num_list: sum(num_list) / len(num_list), numbers))\n",
        "print(averages)\n"
      ],
      "metadata": {
        "colab": {
          "base_uri": "https://localhost:8080/"
        },
        "id": "mhAJFAqte6CN",
        "outputId": "ae2d1b2c-dd61-42ed-ecb5-80d0c2cf35ed"
      },
      "execution_count": null,
      "outputs": [
        {
          "output_type": "stream",
          "name": "stdout",
          "text": [
            "[57.0, 58.2, 50.6, 27.2]\n"
          ]
        }
      ]
    },
    {
      "cell_type": "markdown",
      "source": [
        "#TASK04"
      ],
      "metadata": {
        "id": "jDeNoxtMfGBg"
      }
    },
    {
      "cell_type": "code",
      "source": [
        "cities = [\"New York City\", \"Los Angeles\", \"Chicago\", \"Mountain View\", \"Denver\", \"Boston\"]\n",
        "\n",
        "short_cities = list(filter(lambda name: len(name) < 10, cities))\n",
        "print(short_cities)\n"
      ],
      "metadata": {
        "colab": {
          "base_uri": "https://localhost:8080/"
        },
        "id": "lRuWYhMafH_d",
        "outputId": "a9f2f000-d06c-4716-b8b1-7221ca8c2b6a"
      },
      "execution_count": null,
      "outputs": [
        {
          "output_type": "stream",
          "name": "stdout",
          "text": [
            "['Chicago', 'Denver', 'Boston']\n"
          ]
        }
      ]
    },
    {
      "cell_type": "markdown",
      "source": [
        "#TASK05"
      ],
      "metadata": {
        "id": "VX9tLUDsfVud"
      }
    },
    {
      "cell_type": "code",
      "source": [
        "# Step 1: Ask for user input\n",
        "num_students = int(input(\"Enter the number of students: \"))\n",
        "names = []\n",
        "assignments = []\n",
        "grades = []\n",
        "\n",
        "for _ in range(num_students):\n",
        "    name = input(\"Enter student name: \")\n",
        "    names.append(name)\n",
        "\n",
        "    missing_assignments = int(input(\"Enter number of missing assignments: \"))\n",
        "    assignments.append(missing_assignments)\n",
        "\n",
        "    grade = float(input(\"Enter current grade: \"))\n",
        "    grades.append(grade)\n",
        "\n",
        "# Step 2: Print the message for each student\n",
        "for i in range(num_students):\n",
        "    student_name = names[i]\n",
        "    missing_assignment_count = assignments[i]\n",
        "    current_grade = grades[i]\n",
        "    potential_grade = current_grade + 2 * missing_assignment_count\n",
        "\n",
        "    message = f\"Hi {student_name},\\n\"\\\n",
        "              f\"This is a reminder that you have {missing_assignment_count} assignments left to submit before you can graduate. \"\\\n",
        "              f\"Your current grade is {current_grade} and can increase to {potential_grade} if you submit all assignments before the due date.\\n\"\n",
        "\n",
        "    print(message)\n"
      ],
      "metadata": {
        "colab": {
          "base_uri": "https://localhost:8080/"
        },
        "id": "FyAOjkUkfX3_",
        "outputId": "38d82a33-3ed4-4603-87cc-d98fd24c967f"
      },
      "execution_count": null,
      "outputs": [
        {
          "output_type": "stream",
          "name": "stdout",
          "text": [
            "Enter the number of students: 2\n",
            "Enter student name: Hassan\n",
            "Enter number of missing assignments: 1\n",
            "Enter current grade: 77.5\n",
            "Enter student name: Asad\n",
            "Enter number of missing assignments: 2\n",
            "Enter current grade: 75.0\n",
            "Hi Hassan,\n",
            "This is a reminder that you have 1 assignments left to submit before you can graduate. Your current grade is 77.5 and can increase to 79.5 if you submit all assignments before the due date.\n",
            "\n",
            "Hi Asad,\n",
            "This is a reminder that you have 2 assignments left to submit before you can graduate. Your current grade is 75.0 and can increase to 79.0 if you submit all assignments before the due date.\n",
            "\n"
          ]
        }
      ]
    }
  ]
}