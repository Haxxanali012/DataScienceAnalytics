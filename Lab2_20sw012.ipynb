{
  "nbformat": 4,
  "nbformat_minor": 0,
  "metadata": {
    "colab": {
      "provenance": [],
      "toc_visible": true,
      "authorship_tag": "ABX9TyPL6jtJ5A79dZ9FRio4jpFg",
      "include_colab_link": true
    },
    "kernelspec": {
      "name": "python3",
      "display_name": "Python 3"
    },
    "language_info": {
      "name": "python"
    }
  },
  "cells": [
    {
      "cell_type": "markdown",
      "metadata": {
        "id": "view-in-github",
        "colab_type": "text"
      },
      "source": [
        "<a href=\"https://colab.research.google.com/github/Haxxanali012/DataScienceAnalytics/blob/main/20SW012_Lab2.ipynb\" target=\"_parent\"><img src=\"https://colab.research.google.com/assets/colab-badge.svg\" alt=\"Open In Colab\"/></a>"
      ]
    },
    {
      "cell_type": "markdown",
      "source": [
        "Lab 2: Control flow in python\n",
        "\n",
        "Rollno: 20SW012\n",
        "\n",
        "Section: ii"
      ],
      "metadata": {
        "id": "gS_jYWRPj3k6"
      }
    },
    {
      "cell_type": "markdown",
      "source": [
        "TASK1\n"
      ],
      "metadata": {
        "id": "3o6FRqtfkPKT"
      }
    },
    {
      "cell_type": "code",
      "source": [
        "\n",
        "result = \"\"\n",
        "# points = int(input(\"enter your points: \"))\n",
        "points = 174\n",
        "if points < 0 or points > 200:\n",
        "  print(\"\")\n",
        "elif points >= 0 and points <=50:\n",
        "    results = \"wooden rabbit\"\n",
        "elif points >= 51 and points <=150:\n",
        "    results = \"no prize\"\n",
        "elif points >= 151 and points <=180:\n",
        "    results = \"wafer-thin mint\"\n",
        "elif points >= 181 and points <=200:\n",
        "    results = \"penguin\"\n",
        "\n",
        "if results == \"no prize\":\n",
        "  print(\"Oh dear, no prize this time.\")\n",
        "else:\n",
        "  print(f\"Congratulations! You won a {results}\")\n"
      ],
      "metadata": {
        "colab": {
          "base_uri": "https://localhost:8080/"
        },
        "id": "eaKP7CL6kTUs",
        "outputId": "68f13c35-fa50-4aff-bffc-c37b936b51fc"
      },
      "execution_count": 1,
      "outputs": [
        {
          "output_type": "stream",
          "name": "stdout",
          "text": [
            "Congratulations! You won a wafer-thin mint\n"
          ]
        }
      ]
    },
    {
      "cell_type": "markdown",
      "source": [
        "TASK2\n"
      ],
      "metadata": {
        "id": "6lYHJ1Mlkcrm"
      }
    },
    {
      "cell_type": "code",
      "source": [
        "\n",
        "\n",
        "answer = 57\n",
        "while True:\n",
        "  guess = int(input(\"enter your guess:\"))\n",
        "  if guess < answer:\n",
        "    result = \"Oops! Your guess was too low.\"\n",
        "    print(result)\n",
        "  elif guess > answer:\n",
        "    result = \"Oops! Your guess was too high.\"\n",
        "    print(result)\n",
        "  elif guess == answer:\n",
        "    result = \"Nice! Your guess matched the answer!\"\n",
        "    print(result)\n",
        "    break\n",
        "\n"
      ],
      "metadata": {
        "colab": {
          "base_uri": "https://localhost:8080/"
        },
        "id": "ThLqcO2-ketl",
        "outputId": "55466fe1-6728-4a84-b95f-6629b0491db3"
      },
      "execution_count": 2,
      "outputs": [
        {
          "output_type": "stream",
          "name": "stdout",
          "text": [
            "enter your guess:60\n",
            "Oops! Your guess was too high.\n",
            "enter your guess:57\n",
            "Nice! Your guess matched the answer!\n"
          ]
        }
      ]
    },
    {
      "cell_type": "markdown",
      "source": [
        "TASK3\n"
      ],
      "metadata": {
        "id": "vPsRYhCskkmn"
      }
    },
    {
      "cell_type": "code",
      "source": [
        "# Task 03\n",
        "purchase_amount = int(input(\"Enter your purchase amount: \"))\n",
        "state = str(input('enter your state: '))\n",
        "\n",
        "if state == \"CA\":\n",
        "  print(f\"You have to pay {(purchase_amount*0.075)} tax in amount\")\n",
        "elif state == \"MN\":\n",
        "  print(f\"You have to pay {(purchase_amount*0.095)} tax in amount\")\n",
        "elif state == \"NY\":\n",
        "  print(f\"You have to pay {(purchase_amount*0.089)} tax in amount\")\n",
        "else:\n",
        "  print(\"You entered wrong state!!!\")"
      ],
      "metadata": {
        "colab": {
          "base_uri": "https://localhost:8080/"
        },
        "id": "vRuOCmqakmFT",
        "outputId": "96e16c37-5797-4493-beef-6d8eaf8b465c"
      },
      "execution_count": 4,
      "outputs": [
        {
          "output_type": "stream",
          "name": "stdout",
          "text": [
            "Enter your purchase amount: 1000\n",
            "enter your state: CA\n",
            "You have to pay 75.0 tax in amount\n"
          ]
        }
      ]
    },
    {
      "cell_type": "markdown",
      "source": [
        "TASK4"
      ],
      "metadata": {
        "id": "NFGBQnzEkrZt"
      }
    },
    {
      "cell_type": "code",
      "source": [
        "\n",
        "sentence = [\"the\", \"quick\", \"brown\", \"fox\", \"jumped\", \"over\", \"the\",\n",
        "\"lazy\", \"dog\"]\n",
        "for word in sentence:\n",
        "  print(word)"
      ],
      "metadata": {
        "colab": {
          "base_uri": "https://localhost:8080/"
        },
        "id": "sa5omM9nktSp",
        "outputId": "576a6b45-c3bd-4e3a-8549-f66edb3fe2cb"
      },
      "execution_count": 5,
      "outputs": [
        {
          "output_type": "stream",
          "name": "stdout",
          "text": [
            "the\n",
            "quick\n",
            "brown\n",
            "fox\n",
            "jumped\n",
            "over\n",
            "the\n",
            "lazy\n",
            "dog\n"
          ]
        }
      ]
    },
    {
      "cell_type": "markdown",
      "source": [
        "TASK5"
      ],
      "metadata": {
        "id": "LmUdLVSPkx7e"
      }
    },
    {
      "cell_type": "code",
      "source": [
        "\n",
        "for num in range(1, 35):\n",
        "  if num % 5 == 0:\n",
        "    print(num)"
      ],
      "metadata": {
        "colab": {
          "base_uri": "https://localhost:8080/"
        },
        "id": "yHNRMVuXkzVw",
        "outputId": "99c9fba8-6b32-471f-f434-62442f1b42b6"
      },
      "execution_count": 6,
      "outputs": [
        {
          "output_type": "stream",
          "name": "stdout",
          "text": [
            "5\n",
            "10\n",
            "15\n",
            "20\n",
            "25\n",
            "30\n"
          ]
        }
      ]
    },
    {
      "cell_type": "markdown",
      "source": [
        "TASK6"
      ],
      "metadata": {
        "id": "HOdZa_NLk3gk"
      }
    },
    {
      "cell_type": "code",
      "source": [
        "\n",
        "\n",
        "names = [\"Rick Sanchez\", \"Morty Smith\", \"Summer Smith\", \"Jerry Smith\", \"Beth Smith\"]\n",
        "first_names = [name.split(\" \")[0].lower() for name in names]\n",
        "print(first_names)\n"
      ],
      "metadata": {
        "colab": {
          "base_uri": "https://localhost:8080/"
        },
        "id": "JC_yOKNek45Y",
        "outputId": "de53a8c8-e111-4af3-db0b-bbdb105f232d"
      },
      "execution_count": 7,
      "outputs": [
        {
          "output_type": "stream",
          "name": "stdout",
          "text": [
            "['rick', 'morty', 'summer', 'jerry', 'beth']\n"
          ]
        }
      ]
    },
    {
      "cell_type": "markdown",
      "source": [
        "TASK7"
      ],
      "metadata": {
        "id": "TwQcvcmck-1t"
      }
    },
    {
      "cell_type": "code",
      "source": [
        "\n",
        "multiples_3 = [num for num in range(1,63) if num % 3 == 0]\n",
        "multiples_3"
      ],
      "metadata": {
        "colab": {
          "base_uri": "https://localhost:8080/"
        },
        "id": "cGGM9LfMk_4M",
        "outputId": "393390ef-9b26-4eeb-f745-91c68fd22a8d"
      },
      "execution_count": 8,
      "outputs": [
        {
          "output_type": "execute_result",
          "data": {
            "text/plain": [
              "[3, 6, 9, 12, 15, 18, 21, 24, 27, 30, 33, 36, 39, 42, 45, 48, 51, 54, 57, 60]"
            ]
          },
          "metadata": {},
          "execution_count": 8
        }
      ]
    },
    {
      "cell_type": "markdown",
      "source": [
        "TASK8"
      ],
      "metadata": {
        "id": "CMHkAVMYlFN3"
      }
    },
    {
      "cell_type": "code",
      "source": [
        "\n",
        "scores = {\n",
        " \"Rick Sanchez\": 70,\n",
        " \"Morty Smith\": 35,\n",
        " \"Summer Smith\": 82,\n",
        " \"Jerry Smith\": 23,\n",
        " \"Beth Smith\": 98\n",
        " }\n",
        "passed = [score for score in scores if scores[score] >= 65 ]\n",
        "print(passed)"
      ],
      "metadata": {
        "colab": {
          "base_uri": "https://localhost:8080/"
        },
        "id": "TYypDhb3lGeu",
        "outputId": "2c407444-c4df-4e74-c743-0b7c07705fb6"
      },
      "execution_count": 9,
      "outputs": [
        {
          "output_type": "stream",
          "name": "stdout",
          "text": [
            "['Rick Sanchez', 'Summer Smith', 'Beth Smith']\n"
          ]
        }
      ]
    },
    {
      "cell_type": "markdown",
      "source": [
        "TASK9"
      ],
      "metadata": {
        "id": "0ECFYIU_lKqd"
      }
    },
    {
      "cell_type": "code",
      "source": [
        "\n",
        "cast_names = [\"Barney\", \"Robin\", \"Ted\", \"Lily\", \"Marshall\"]\n",
        "cast_heights = [72, 68, 72, 66, 76]\n",
        "cast = {}\n",
        "for name, height in zip(cast_names, cast_heights):\n",
        "  cast[name] = height\n",
        "print(cast)"
      ],
      "metadata": {
        "colab": {
          "base_uri": "https://localhost:8080/"
        },
        "id": "i5niplgLlL3V",
        "outputId": "433cade1-47c9-44e0-855c-4e7da8048b73"
      },
      "execution_count": 10,
      "outputs": [
        {
          "output_type": "stream",
          "name": "stdout",
          "text": [
            "{'Barney': 72, 'Robin': 68, 'Ted': 72, 'Lily': 66, 'Marshall': 76}\n"
          ]
        }
      ]
    },
    {
      "cell_type": "markdown",
      "source": [
        "TASK10"
      ],
      "metadata": {
        "id": "xevr_zU5lQEt"
      }
    },
    {
      "cell_type": "code",
      "source": [
        "\n",
        "cast = [\"Barney Stinson\", \"Robin Scherbatsky\", \"Ted Mosby\",\n",
        "\"Lily Aldrin\", \"Marshall Eriksen\"]\n",
        "heights = [72, 68, 72, 66, 76]\n",
        "for index, height in enumerate(heights):\n",
        "  cast[index] = cast[index] + \" \" + str(height)\n",
        "print(cast)"
      ],
      "metadata": {
        "colab": {
          "base_uri": "https://localhost:8080/"
        },
        "id": "YnTut1iRlUdQ",
        "outputId": "a862405d-0643-43dc-9501-e0f114273642"
      },
      "execution_count": 11,
      "outputs": [
        {
          "output_type": "stream",
          "name": "stdout",
          "text": [
            "['Barney Stinson 72', 'Robin Scherbatsky 68', 'Ted Mosby 72', 'Lily Aldrin 66', 'Marshall Eriksen 76']\n"
          ]
        }
      ]
    }
  ]
}
