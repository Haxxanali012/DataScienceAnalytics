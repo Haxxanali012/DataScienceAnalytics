{
  "nbformat": 4,
  "nbformat_minor": 0,
  "metadata": {
    "colab": {
      "provenance": [],
      "toc_visible": true
    },
    "kernelspec": {
      "name": "python3",
      "display_name": "Python 3"
    },
    "language_info": {
      "name": "python"
    }
  },
  "cells": [
    {
      "cell_type": "code",
      "execution_count": null,
      "metadata": {
        "id": "ClO0BtCfNbGv"
      },
      "outputs": [],
      "source": []
    },
    {
      "cell_type": "markdown",
      "source": [
        "LAB#1 **DATA types and Operators**\n",
        "\n",
        "Rollno = **20SW012**\n",
        "\n",
        "Section= **2**"
      ],
      "metadata": {
        "id": "l_QAkAWEOEW6"
      }
    },
    {
      "cell_type": "markdown",
      "source": [
        "**TASK#1**"
      ],
      "metadata": {
        "id": "-49MHefOPnpD"
      }
    },
    {
      "cell_type": "code",
      "source": [
        "var1 = 12\n",
        "var2 = \"Assalam-o-Alaikum\"\n",
        "\n",
        "print(\"The var1 is {} and the var2 is '{}'.\".format(var1, var2))\n"
      ],
      "metadata": {
        "colab": {
          "base_uri": "https://localhost:8080/"
        },
        "id": "9x8XgQWiOhBa",
        "outputId": "6917be09-3bf5-40f6-eb2f-29561e1ddb80"
      },
      "execution_count": 1,
      "outputs": [
        {
          "output_type": "stream",
          "name": "stdout",
          "text": [
            "The var1 is 12 and the var2 is 'Assalam-o-Alaikum'.\n"
          ]
        }
      ]
    },
    {
      "cell_type": "markdown",
      "source": [
        "**TASK#2**"
      ],
      "metadata": {
        "id": "DLuqQyxXPhfJ"
      }
    },
    {
      "cell_type": "code",
      "source": [
        "months = 8\n",
        "days_in_month = [31, 28, 31, 30, 31, 30, 31, 31, 30, 31, 30, 31]\n",
        "\n",
        "# Use list indexing\n",
        "num_days = days_in_month[months - 1]\n",
        "\n",
        "print(num_days)\n"
      ],
      "metadata": {
        "colab": {
          "base_uri": "https://localhost:8080/"
        },
        "id": "wdIAWrDwOpuv",
        "outputId": "a438b074-8ca3-4c32-f5c0-935c7c2adff6"
      },
      "execution_count": 2,
      "outputs": [
        {
          "output_type": "stream",
          "name": "stdout",
          "text": [
            "31\n"
          ]
        }
      ]
    },
    {
      "cell_type": "markdown",
      "source": [
        "**TASK#3**"
      ],
      "metadata": {
        "id": "Bc20k4J8PsXa"
      }
    },
    {
      "cell_type": "code",
      "source": [
        "eclipse_dates = ['June 21, 2001', 'December 4, 2002', 'November 23, 2003',\n",
        "                 'March 29, 2006', 'August 1, 2008', 'July 22, 2009',\n",
        "                 'July 11, 2010', 'November 13, 2012', 'March 20, 2015',\n",
        "                 'March 9, 2016']\n",
        "\n",
        "# Use negative index\n",
        "most_recent_dates = eclipse_dates[-3:]\n",
        "\n",
        "print(most_recent_dates)\n"
      ],
      "metadata": {
        "colab": {
          "base_uri": "https://localhost:8080/"
        },
        "id": "Yct5gjLwQB0H",
        "outputId": "cf41dbe8-f2cb-421a-8225-9fdaf24f02cd"
      },
      "execution_count": 3,
      "outputs": [
        {
          "output_type": "stream",
          "name": "stdout",
          "text": [
            "['November 13, 2012', 'March 20, 2015', 'March 9, 2016']\n"
          ]
        }
      ]
    },
    {
      "cell_type": "markdown",
      "source": [
        "**TASK#4**"
      ],
      "metadata": {
        "id": "gUhlVgEkS08B"
      }
    },
    {
      "cell_type": "markdown",
      "source": [
        "**Capitazlize**"
      ],
      "metadata": {
        "id": "lX_o32kOVxrp"
      }
    },
    {
      "cell_type": "code",
      "source": [
        "text = \"hello world\"\n",
        "capitalized_text = text.capitalize()\n",
        "print(capitalized_text)\n"
      ],
      "metadata": {
        "id": "_Jx3VyvsS6Er"
      },
      "execution_count": null,
      "outputs": []
    },
    {
      "cell_type": "markdown",
      "source": [
        "**Uppercasr**"
      ],
      "metadata": {
        "id": "MvFXVqEoVrCI"
      }
    },
    {
      "cell_type": "code",
      "source": [
        "text = \"hello world\"\n",
        "uppercase_text = text.upper()\n",
        "print(uppercase_text)\n"
      ],
      "metadata": {
        "id": "ahSeDVPTTjAl"
      },
      "execution_count": null,
      "outputs": []
    },
    {
      "cell_type": "markdown",
      "source": [
        "**Lowercase**"
      ],
      "metadata": {
        "id": "egDG2_0BV6Cy"
      }
    },
    {
      "cell_type": "code",
      "source": [
        "text = \"Hello World\"\n",
        "lowercase_text = text.lower()\n",
        "print(lowercase_text)\n"
      ],
      "metadata": {
        "id": "spnh3JCaTmcQ"
      },
      "execution_count": null,
      "outputs": []
    },
    {
      "cell_type": "markdown",
      "source": [
        "**Strip**"
      ],
      "metadata": {
        "id": "97nKsQioV9_o"
      }
    },
    {
      "cell_type": "code",
      "source": [
        "text = \"   Hello World    \"\n",
        "stripped_text = text.strip()\n",
        "print(stripped_text)\n"
      ],
      "metadata": {
        "id": "Y-xtZgCqTpDF"
      },
      "execution_count": null,
      "outputs": []
    },
    {
      "cell_type": "markdown",
      "source": [
        "**Replace**"
      ],
      "metadata": {
        "id": "fOoQOBXUWBFv"
      }
    },
    {
      "cell_type": "code",
      "source": [
        "text = \"Hello, World!\"\n",
        "new_text = text.replace(\"Hello\", \"Hi\")\n",
        "print(new_text)\n"
      ],
      "metadata": {
        "id": "gTbimwUSTv4W"
      },
      "execution_count": null,
      "outputs": []
    },
    {
      "cell_type": "markdown",
      "source": [
        "**Split**"
      ],
      "metadata": {
        "id": "AI_PnoqEWGUk"
      }
    },
    {
      "cell_type": "code",
      "source": [
        "text = \"apple,banana,orange\"\n",
        "fruits_list = text.split(\",\")\n",
        "print(fruits_list)\n"
      ],
      "metadata": {
        "id": "wtLu7HT8TxOx"
      },
      "execution_count": null,
      "outputs": []
    },
    {
      "cell_type": "markdown",
      "source": [
        "**Startswith**"
      ],
      "metadata": {
        "id": "9ksIXa6PWKg9"
      }
    },
    {
      "cell_type": "code",
      "source": [
        "text = \"Hello, World!\"\n",
        "result = text.startswith(\"Hello\")\n",
        "print(result)\n"
      ],
      "metadata": {
        "id": "sWkYZVfhT1ZE"
      },
      "execution_count": null,
      "outputs": []
    },
    {
      "cell_type": "markdown",
      "source": [
        "**Endswith**"
      ],
      "metadata": {
        "id": "AtR3YszpWbgC"
      }
    },
    {
      "cell_type": "code",
      "source": [
        "text = \"Hello, World!\"\n",
        "result = text.endswith(\"World!\")\n",
        "print(result)\n"
      ],
      "metadata": {
        "id": "gFbzD65wT7Ha"
      },
      "execution_count": null,
      "outputs": []
    },
    {
      "cell_type": "markdown",
      "source": [
        "**Find**"
      ],
      "metadata": {
        "id": "i-cxRryVWQMY"
      }
    },
    {
      "cell_type": "code",
      "source": [
        "text = \"Hello, World!\"\n",
        "index = text.find(\"World\")\n",
        "print(index)\n"
      ],
      "metadata": {
        "id": "JEXu54rLT-LP"
      },
      "execution_count": null,
      "outputs": []
    },
    {
      "cell_type": "markdown",
      "source": [
        "**Count**"
      ],
      "metadata": {
        "id": "eto5y09kWlBO"
      }
    },
    {
      "cell_type": "code",
      "source": [
        "text = \"Hello, World!\"\n",
        "occurrences = text.count(\"l\")\n",
        "print(occurrences)\n"
      ],
      "metadata": {
        "id": "gvctWt7bUA4F"
      },
      "execution_count": null,
      "outputs": []
    },
    {
      "cell_type": "markdown",
      "source": [
        "**TASK#5**"
      ],
      "metadata": {
        "id": "5QeleNiOUGUi"
      }
    },
    {
      "cell_type": "code",
      "source": [
        "# Nested dictionary to store student data\n",
        "students_data = {\n",
        "    \"st1\": {\n",
        "        \"name\": \"Hassan\",\n",
        "        \"age\": 18,\n",
        "        \"grade\": \"A\",\n",
        "        \"address\": \"Jamshoro\",\n",
        "        \"phone\": \"3163629638\"\n",
        "    },\n",
        "    \"st2\": {\n",
        "        \"name\": \"Niaz\",\n",
        "        \"age\": 17,\n",
        "        \"grade\": \"F\",\n",
        "        \"address\": \"Hyderabad\",\n",
        "        \"phone\": \"123456789\"\n",
        "    },\n",
        "\n",
        "\n",
        "}\n",
        "\n",
        "# Accessing and printing student data\n",
        "print(\"Student 1:\")\n",
        "print(\"Name:\", students_data[\"st1\"][\"name\"])\n",
        "print(\"Age:\", students_data[\"st1\"][\"age\"])\n",
        "print(\"Grade:\", students_data[\"st1\"][\"grade\"])\n",
        "print(\"Address:\", students_data[\"st1\"][\"address\"])\n",
        "print(\"Phone:\", students_data[\"st1\"][\"phone\"])\n",
        "print()\n",
        "\n",
        "print(\"Student 2:\")\n",
        "print(\"Name:\", students_data[\"st2\"][\"name\"])\n",
        "print(\"Age:\", students_data[\"st2\"][\"age\"])\n",
        "print(\"Grade:\", students_data[\"st2\"][\"grade\"])\n",
        "print(\"Address:\", students_data[\"st2\"][\"address\"])\n",
        "print(\"Phone:\", students_data[\"st2\"][\"phone\"])\n"
      ],
      "metadata": {
        "colab": {
          "base_uri": "https://localhost:8080/"
        },
        "id": "hLpFNTp1UM5O",
        "outputId": "f8308036-f049-4476-ee62-e09f7abf8cf2"
      },
      "execution_count": 5,
      "outputs": [
        {
          "output_type": "stream",
          "name": "stdout",
          "text": [
            "Student 1:\n",
            "Name: Hassan\n",
            "Age: 18\n",
            "Grade: A\n",
            "Address: Jamshoro\n",
            "Phone: 3163629638\n",
            "\n",
            "Student 2:\n",
            "Name: Niaz\n",
            "Age: 17\n",
            "Grade: F\n",
            "Address: Hyderabad\n",
            "Phone: 123456789\n"
          ]
        }
      ]
    }
  ]
}